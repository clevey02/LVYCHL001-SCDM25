


#Loading the necessary data and functions:

from cartopy import crs as ccrs, feature as cfeature
import xarray as xr
import cmocean.cm as cmo
import warnings
import sys
import matplotlib.pyplot as plt
import numpy as np


proj = ccrs.Stereographic(central_latitude=-90, scale_factor=7)

fig = plt.figure(figsize=[6, 6], dpi=80)
ax = fig.add_subplot(111, projection=proj)
extent = [-180,180,-60,-90] #Locating the area to look at nicely 

ax.set_extent(extent, crs=ccrs.PlateCarree()) 
ax.add_feature(cfeature.LAND, color = "white")
ax.add_feature(cfeature.OCEAN, color = "lightblue")
ax.coastlines(lw=0.5, resolution='50m')
ax.gridlines(draw_labels=True)

plt.title("Antarctica and Southern Ocean Map from 60 Degrees South")

fig.tight_layout()
plt.show()









from geopy.geocoders import Nominatim
from geopy.distance import geodesic 


geolocator = Nominatim(user_agent='educational')

# Code mapping the South Atlantic,from 20°S to 50°S
extent = [-20, 40, 20, 50] 
central_lon = np.mean(extent[:2])
central_lat = np.mean(extent[2:])

place = ['Walvis Bay', 'Cape Town', 'Rio de Janeiro', 'Montevideo']
address = []
for p in place:
    loc = geolocator.geocode(p,language="en")
    address.append(loc) 
print(address)

plt.figure(figsize=(12, 6))
ax = plt.axes(projection=ccrs.AlbersEqualArea(central_lon, central_lat))
ax.set_extent(extent)
ax.add_feature(cfeature.LAND, facecolor='lightgray')
ax.add_feature(cfeature.OCEAN, facecolor='lightblue')
ax.gridlines(draw_labels=True)
for p in range(len(place)):
    ax.text(address[p].longitude,address[p].latitude,place[p],transform=ccrs.Geodetic()) 

plt.show()



