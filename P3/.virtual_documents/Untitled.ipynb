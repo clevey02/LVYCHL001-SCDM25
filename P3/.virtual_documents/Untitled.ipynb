


#Loading the necessary data and functions:

from cartopy import crs as ccrs, feature as cfeature
import xarray as xr
import cmocean.cm as cmo
import warnings
import sys
import matplotlib.pyplot as plt



